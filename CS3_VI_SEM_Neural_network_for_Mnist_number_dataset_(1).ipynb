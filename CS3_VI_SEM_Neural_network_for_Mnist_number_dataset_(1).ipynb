{
  "nbformat": 4,
  "nbformat_minor": 0,
  "metadata": {
    "kernelspec": {
      "name": "python3",
      "display_name": "Python 3"
    },
    "toc": {
      "nav_menu": {},
      "number_sections": true,
      "sideBar": true,
      "skip_h1_title": false,
      "toc_cell": true,
      "toc_position": {},
      "toc_section_display": "block",
      "toc_window_display": false
    },
    "colab": {
      "provenance": [],
      "include_colab_link": true
    },
    "accelerator": "GPU"
  },
  "cells": [
    {
      "cell_type": "markdown",
      "metadata": {
        "id": "view-in-github",
        "colab_type": "text"
      },
      "source": [
        "<a href=\"https://colab.research.google.com/github/vivek-chouhan/assignment-day-1/blob/main/CS3_VI_SEM_Neural_network_for_Mnist_number_dataset_(1).ipynb\" target=\"_parent\"><img src=\"https://colab.research.google.com/assets/colab-badge.svg\" alt=\"Open In Colab\"/></a>"
      ]
    },
    {
      "cell_type": "markdown",
      "source": [],
      "metadata": {
        "id": "aK_1LHdwQpF9"
      }
    },
    {
      "cell_type": "code",
      "source": [
        "from google.colab import drive\n",
        "drive.mount('/content/drive')"
      ],
      "metadata": {
        "colab": {
          "base_uri": "https://localhost:8080/"
        },
        "id": "ryyTuYFyelX1",
        "outputId": "f687924a-0973-4ce5-840e-5235ac86f122"
      },
      "execution_count": 52,
      "outputs": [
        {
          "output_type": "stream",
          "name": "stdout",
          "text": [
            "Drive already mounted at /content/drive; to attempt to forcibly remount, call drive.mount(\"/content/drive\", force_remount=True).\n"
          ]
        }
      ]
    },
    {
      "cell_type": "markdown",
      "metadata": {
        "id": "view-in-github"
      },
      "source": [
        "<a href=\"https://colab.research.google.com/github/Mustafalw02/Machine-Learning-Lab-Work/blob/master/Neural_network_for_Mnist_number_dataset.ipynb\" target=\"_parent\"><img src=\"https://colab.research.google.com/assets/colab-badge.svg\" alt=\"Open In Colab\"/></a>"
      ]
    },
    {
      "cell_type": "markdown",
      "metadata": {
        "toc": true,
        "id": "zQvT7bhRzp4e"
      },
      "source": [
        "<h1>Table of Contents<span class=\"tocSkip\"></span></h1>\n",
        "<div class=\"toc\" style=\"margin-top: 1em;\"><ul class=\"toc-item\"><li><span><a href=\"#Loading-the-MNIST-dataset-in-Keras\" data-toc-modified-id=\"Loading-the-MNIST-dataset-in-Keras-1\"><span class=\"toc-item-num\">1&nbsp;&nbsp;</span>Loading the MNIST dataset in Keras</a></span></li><li><span><a href=\"#The-network-architecture\" data-toc-modified-id=\"The-network-architecture-2\"><span class=\"toc-item-num\">2&nbsp;&nbsp;</span>The network architecture</a></span></li><li><span><a href=\"#The-compilation-step\" data-toc-modified-id=\"The-compilation-step-3\"><span class=\"toc-item-num\">3&nbsp;&nbsp;</span>The compilation step</a></span></li><li><span><a href=\"#Preparing-the-image-data\" data-toc-modified-id=\"Preparing-the-image-data-4\"><span class=\"toc-item-num\">4&nbsp;&nbsp;</span>Preparing the image data</a></span></li><li><span><a href=\"#Preparing-the-labels\" data-toc-modified-id=\"Preparing-the-labels-5\"><span class=\"toc-item-num\">5&nbsp;&nbsp;</span>Preparing the labels</a></span></li><li><span><a href=\"#Training-and-Testing\" data-toc-modified-id=\"Training-and-Testing-6\"><span class=\"toc-item-num\">6&nbsp;&nbsp;</span>Training and Testing</a></span></li></ul></div>"
      ]
    },
    {
      "cell_type": "markdown",
      "metadata": {
        "id": "GSee4zKUzp4i"
      },
      "source": [
        "# Loading the MNIST dataset in Keras"
      ]
    },
    {
      "cell_type": "code",
      "metadata": {
        "id": "6a8IveFHzp4l"
      },
      "source": [
        "from keras.datasets import mnist"
      ],
      "execution_count": 70,
      "outputs": []
    },
    {
      "cell_type": "code",
      "metadata": {
        "id": "LQPmnZ8xzp4v"
      },
      "source": [
        "(train_images, train_labels), (test_images, test_labels) = mnist.load_data()"
      ],
      "execution_count": 71,
      "outputs": []
    },
    {
      "cell_type": "markdown",
      "metadata": {
        "id": "mnZfS9HYzp4z"
      },
      "source": [
        "- The images are encoded as Numpy arrays, and the labels are an array of digits, ranging from 0 to 9."
      ]
    },
    {
      "cell_type": "code",
      "metadata": {
        "id": "VFdoffSmzp41",
        "colab": {
          "base_uri": "https://localhost:8080/"
        },
        "outputId": "f96ead97-b5f6-45de-ecd9-1fb6a8961bb4"
      },
      "source": [
        "train_images.shape\n"
      ],
      "execution_count": 72,
      "outputs": [
        {
          "output_type": "execute_result",
          "data": {
            "text/plain": [
              "(60000, 28, 28)"
            ]
          },
          "metadata": {},
          "execution_count": 72
        }
      ]
    },
    {
      "cell_type": "code",
      "metadata": {
        "id": "tD65nC-vzp45",
        "colab": {
          "base_uri": "https://localhost:8080/"
        },
        "outputId": "ed942461-410e-494c-f28f-e31e3dbe0262"
      },
      "source": [
        "len(train_labels)"
      ],
      "execution_count": 73,
      "outputs": [
        {
          "output_type": "execute_result",
          "data": {
            "text/plain": [
              "60000"
            ]
          },
          "metadata": {},
          "execution_count": 73
        }
      ]
    },
    {
      "cell_type": "code",
      "metadata": {
        "id": "IX9LpWNazp4_",
        "colab": {
          "base_uri": "https://localhost:8080/"
        },
        "outputId": "ee36112d-a08f-40da-c24d-a34e8fe4b0f9"
      },
      "source": [
        "train_labels"
      ],
      "execution_count": 74,
      "outputs": [
        {
          "output_type": "execute_result",
          "data": {
            "text/plain": [
              "array([5, 0, 4, ..., 5, 6, 8], dtype=uint8)"
            ]
          },
          "metadata": {},
          "execution_count": 74
        }
      ]
    },
    {
      "cell_type": "code",
      "metadata": {
        "id": "SG0L5p4Dzp5D",
        "colab": {
          "base_uri": "https://localhost:8080/"
        },
        "outputId": "0ba6b4e0-82bf-47f4-e8e2-9f2b38e26a27"
      },
      "source": [
        "test_images.shape"
      ],
      "execution_count": 75,
      "outputs": [
        {
          "output_type": "execute_result",
          "data": {
            "text/plain": [
              "(10000, 28, 28)"
            ]
          },
          "metadata": {},
          "execution_count": 75
        }
      ]
    },
    {
      "cell_type": "code",
      "metadata": {
        "id": "MimOH_Xnzp5I",
        "colab": {
          "base_uri": "https://localhost:8080/"
        },
        "outputId": "49d6c416-71f0-4ec2-c705-138a5ae09d7a"
      },
      "source": [
        "len(test_labels)"
      ],
      "execution_count": 76,
      "outputs": [
        {
          "output_type": "execute_result",
          "data": {
            "text/plain": [
              "10000"
            ]
          },
          "metadata": {},
          "execution_count": 76
        }
      ]
    },
    {
      "cell_type": "code",
      "metadata": {
        "id": "8EHR0v0Bzp5M",
        "colab": {
          "base_uri": "https://localhost:8080/"
        },
        "outputId": "963b8caf-d6f7-4120-ddcc-28a44bde866f"
      },
      "source": [
        "test_labels"
      ],
      "execution_count": 77,
      "outputs": [
        {
          "output_type": "execute_result",
          "data": {
            "text/plain": [
              "array([7, 2, 1, ..., 4, 5, 6], dtype=uint8)"
            ]
          },
          "metadata": {},
          "execution_count": 77
        }
      ]
    },
    {
      "cell_type": "markdown",
      "metadata": {
        "id": "s0Tp6nDRzp5R"
      },
      "source": [
        "Let's build the network"
      ]
    },
    {
      "cell_type": "markdown",
      "metadata": {
        "id": "WxbJXg2Czp5T"
      },
      "source": [
        "# The network architecture"
      ]
    },
    {
      "cell_type": "markdown",
      "metadata": {
        "id": "kGCxNrDdzp5U"
      },
      "source": [
        "- The core building block of neural networks is the **layer**, a data-processing module that you can think of as a filter for data.\n",
        "    - Some data goes in, and it comes out in a more useful form.\n",
        "    - Layers extract **representations** (hopefully, meaningful for the data problem at hand) out of the data fed into them.\n",
        "    \n",
        "- Most of deep learning consists of chaining together simple layers that will implement a form of progressive **data distillation**.\n",
        "- A deep learning model is like a sieve for data-processing, made of a succession of increasingly refined data filters--**the layers**."
      ]
    },
    {
      "cell_type": "code",
      "metadata": {
        "id": "uyUqGjPTzp5V"
      },
      "source": [
        "from keras import models\n",
        "from keras import layers"
      ],
      "execution_count": 78,
      "outputs": []
    },
    {
      "cell_type": "code",
      "metadata": {
        "id": "NEVk0S9_zp5a",
        "colab": {
          "base_uri": "https://localhost:8080/"
        },
        "outputId": "35bfd717-e836-49ef-aa0d-890a2963f6d1"
      },
      "source": [
        "network = models.Sequential()\n",
        "# Dense(32) is a fully-connected layer with 32 hidden units.\n",
        "# in the first layer, you must specify the expected input data shape :\n",
        "# here, 28 X 28=784 -dimensional vectors.\n",
        "network.add(layers.Dense(32, activation='sigmoid', input_shape=(28 * 28, )))\n",
        "network.add(layers.Dense(8, activation='sigmoid'))\n",
        "network.add(layers.Dense(10, activation='relu'))\n",
        "network.add(layers.Dense(30, activation='sigmoid'))\n",
        "network.add(layers.Dense(10, activation='softmax'))\n",
        "network.summary()"
      ],
      "execution_count": 79,
      "outputs": [
        {
          "output_type": "stream",
          "name": "stdout",
          "text": [
            "Model: \"sequential_4\"\n",
            "_________________________________________________________________\n",
            " Layer (type)                Output Shape              Param #   \n",
            "=================================================================\n",
            " dense_18 (Dense)            (None, 32)                25120     \n",
            "                                                                 \n",
            " dense_19 (Dense)            (None, 8)                 264       \n",
            "                                                                 \n",
            " dense_20 (Dense)            (None, 10)                90        \n",
            "                                                                 \n",
            " dense_21 (Dense)            (None, 30)                330       \n",
            "                                                                 \n",
            " dense_22 (Dense)            (None, 10)                310       \n",
            "                                                                 \n",
            "=================================================================\n",
            "Total params: 26,114\n",
            "Trainable params: 26,114\n",
            "Non-trainable params: 0\n",
            "_________________________________________________________________\n"
          ]
        }
      ]
    },
    {
      "cell_type": "markdown",
      "metadata": {
        "id": "Af2c2tvKzp5f"
      },
      "source": [
        "- Our network consists of a sequence of two *Dense* layers, which are densely connected (also called *fully connected*) neural layers.\n",
        "- The second (and last) layer is a **10-way** *softmax* layer, which means it will return an array of **10** probability scores. Each score will be the probability that the current digit image belongs to one of our 10 digit classes. "
      ]
    },
    {
      "cell_type": "markdown",
      "metadata": {
        "id": "NHbqJ-rWzp5g"
      },
      "source": [
        "# The compilation step"
      ]
    },
    {
      "cell_type": "markdown",
      "metadata": {
        "id": "1w0ne5wYzp5h"
      },
      "source": [
        "- To make the network ready for training, we need to pick three more things, as part of the **compilation** step:\n",
        " - **A loss function**-- How the network will be able to measure its performance on the training data, and thus how it will be able to steer itself in the right direction.\n",
        " - **An optimizer**--The mechanism through which the network will update itself based on the data it sees and its loss function.\n",
        " - **Metrics to monitor during training and testing**--Here, we will only care about accuracy (the fraction of the images that were correctly classified)."
      ]
    },
    {
      "cell_type": "code",
      "metadata": {
        "id": "uvSO-q9Ozp5i"
      },
      "source": [
        "network.compile(optimizer='sgd',\n",
        "                loss='categorical_crossentropy',\n",
        "                metrics=['accuracy'])\n",
        "    "
      ],
      "execution_count": 80,
      "outputs": []
    },
    {
      "cell_type": "markdown",
      "metadata": {
        "id": "fLHJqTLXzp5o"
      },
      "source": [
        "# Preparing the image data"
      ]
    },
    {
      "cell_type": "markdown",
      "metadata": {
        "id": "ajWKVl1-zp5q"
      },
      "source": [
        "Before training, we will preprocess the data by reshaping it into the shape the network expects and scaling it so that all values are in the $[0-1]$ interval."
      ]
    },
    {
      "cell_type": "code",
      "metadata": {
        "id": "4vMdz75Wzp5s"
      },
      "source": [
        "train_images = train_images.reshape((60000, 28 * 28))\n",
        "train_images = train_images.astype('float32') / 255."
      ],
      "execution_count": 81,
      "outputs": []
    },
    {
      "cell_type": "code",
      "metadata": {
        "id": "4icW7vDgzp5w"
      },
      "source": [
        "test_images = test_images.reshape((10000, 28 * 28))\n",
        "test_images = test_images.astype('float32') / 255."
      ],
      "execution_count": 82,
      "outputs": []
    },
    {
      "cell_type": "markdown",
      "metadata": {
        "id": "0SHD8Vvhzp5z"
      },
      "source": [
        "# Preparing the labels"
      ]
    },
    {
      "cell_type": "markdown",
      "metadata": {
        "id": "JA1YmuF1zp51"
      },
      "source": [
        "We also need to categorically encode the labels."
      ]
    },
    {
      "cell_type": "code",
      "metadata": {
        "id": "Bh42ABtgzp58"
      },
      "source": [
        "from keras.utils import to_categorical"
      ],
      "execution_count": 83,
      "outputs": []
    },
    {
      "cell_type": "code",
      "metadata": {
        "id": "3eCqlapJzp6A",
        "colab": {
          "base_uri": "https://localhost:8080/"
        },
        "outputId": "590d1c1b-2e2b-4d88-dac9-408aeb88b077"
      },
      "source": [
        "train_labels = to_categorical(train_labels)\n",
        "train_labels"
      ],
      "execution_count": 84,
      "outputs": [
        {
          "output_type": "execute_result",
          "data": {
            "text/plain": [
              "array([[0., 0., 0., ..., 0., 0., 0.],\n",
              "       [1., 0., 0., ..., 0., 0., 0.],\n",
              "       [0., 0., 0., ..., 0., 0., 0.],\n",
              "       ...,\n",
              "       [0., 0., 0., ..., 0., 0., 0.],\n",
              "       [0., 0., 0., ..., 0., 0., 0.],\n",
              "       [0., 0., 0., ..., 0., 1., 0.]], dtype=float32)"
            ]
          },
          "metadata": {},
          "execution_count": 84
        }
      ]
    },
    {
      "cell_type": "code",
      "metadata": {
        "id": "wWXDQKNBzp6E",
        "colab": {
          "base_uri": "https://localhost:8080/"
        },
        "outputId": "a02c7276-6293-455d-f307-8714c6dce8f8"
      },
      "source": [
        "test_labels = to_categorical(test_labels)\n",
        "test_labels"
      ],
      "execution_count": 85,
      "outputs": [
        {
          "output_type": "execute_result",
          "data": {
            "text/plain": [
              "array([[0., 0., 0., ..., 1., 0., 0.],\n",
              "       [0., 0., 1., ..., 0., 0., 0.],\n",
              "       [0., 1., 0., ..., 0., 0., 0.],\n",
              "       ...,\n",
              "       [0., 0., 0., ..., 0., 0., 0.],\n",
              "       [0., 0., 0., ..., 0., 0., 0.],\n",
              "       [0., 0., 0., ..., 0., 0., 0.]], dtype=float32)"
            ]
          },
          "metadata": {},
          "execution_count": 85
        }
      ]
    },
    {
      "cell_type": "markdown",
      "metadata": {
        "id": "csJ7yQVxzp6I"
      },
      "source": [
        "# Training and Testing"
      ]
    },
    {
      "cell_type": "markdown",
      "metadata": {
        "id": "P-KLV-VIzp6K"
      },
      "source": [
        "We are now ready to train the network, which in Keras is done via a call to the network's fit method--we fit the model to its training data:"
      ]
    },
    {
      "cell_type": "code",
      "metadata": {
        "id": "sGWa7zXYzp6O",
        "colab": {
          "base_uri": "https://localhost:8080/"
        },
        "outputId": "ec8e8078-e5cc-4335-a0f5-2f3a68a54b73"
      },
      "source": [
        "network.fit(train_images, train_labels, epochs=250, batch_size=50)"
      ],
      "execution_count": 86,
      "outputs": [
        {
          "output_type": "stream",
          "name": "stdout",
          "text": [
            "Epoch 1/250\n",
            "1200/1200 [==============================] - 4s 3ms/step - loss: 2.3089 - accuracy: 0.1100\n",
            "Epoch 2/250\n",
            "1200/1200 [==============================] - 5s 4ms/step - loss: 2.2987 - accuracy: 0.1127\n",
            "Epoch 3/250\n",
            "1200/1200 [==============================] - 4s 3ms/step - loss: 2.2952 - accuracy: 0.1143\n",
            "Epoch 4/250\n",
            "1200/1200 [==============================] - 4s 3ms/step - loss: 2.2885 - accuracy: 0.1317\n",
            "Epoch 5/250\n",
            "1200/1200 [==============================] - 4s 4ms/step - loss: 2.2722 - accuracy: 0.1753\n",
            "Epoch 6/250\n",
            "1200/1200 [==============================] - 4s 3ms/step - loss: 2.2157 - accuracy: 0.2236\n",
            "Epoch 7/250\n",
            "1200/1200 [==============================] - 4s 4ms/step - loss: 2.0411 - accuracy: 0.2423\n",
            "Epoch 8/250\n",
            "1200/1200 [==============================] - 4s 4ms/step - loss: 1.8485 - accuracy: 0.2868\n",
            "Epoch 9/250\n",
            "1200/1200 [==============================] - 4s 4ms/step - loss: 1.7354 - accuracy: 0.3561\n",
            "Epoch 10/250\n",
            "1200/1200 [==============================] - 4s 3ms/step - loss: 1.6498 - accuracy: 0.3911\n",
            "Epoch 11/250\n",
            "1200/1200 [==============================] - 4s 3ms/step - loss: 1.5724 - accuracy: 0.4213\n",
            "Epoch 12/250\n",
            "1200/1200 [==============================] - 5s 4ms/step - loss: 1.5068 - accuracy: 0.4494\n",
            "Epoch 13/250\n",
            "1200/1200 [==============================] - 4s 3ms/step - loss: 1.4492 - accuracy: 0.4787\n",
            "Epoch 14/250\n",
            "1200/1200 [==============================] - 3s 3ms/step - loss: 1.3877 - accuracy: 0.5182\n",
            "Epoch 15/250\n",
            "1200/1200 [==============================] - 4s 3ms/step - loss: 1.2960 - accuracy: 0.5819\n",
            "Epoch 16/250\n",
            "1200/1200 [==============================] - 4s 4ms/step - loss: 1.1597 - accuracy: 0.6420\n",
            "Epoch 17/250\n",
            "1200/1200 [==============================] - 4s 3ms/step - loss: 1.0466 - accuracy: 0.6759\n",
            "Epoch 18/250\n",
            "1200/1200 [==============================] - 4s 3ms/step - loss: 0.9652 - accuracy: 0.7098\n",
            "Epoch 19/250\n",
            "1200/1200 [==============================] - 5s 4ms/step - loss: 0.8987 - accuracy: 0.7391\n",
            "Epoch 20/250\n",
            "1200/1200 [==============================] - 4s 3ms/step - loss: 0.8406 - accuracy: 0.7650\n",
            "Epoch 21/250\n",
            "1200/1200 [==============================] - 4s 3ms/step - loss: 0.7871 - accuracy: 0.7892\n",
            "Epoch 22/250\n",
            "1200/1200 [==============================] - 4s 3ms/step - loss: 0.7340 - accuracy: 0.8111\n",
            "Epoch 23/250\n",
            "1200/1200 [==============================] - 5s 4ms/step - loss: 0.6781 - accuracy: 0.8308\n",
            "Epoch 24/250\n",
            "1200/1200 [==============================] - 4s 3ms/step - loss: 0.6209 - accuracy: 0.8467\n",
            "Epoch 25/250\n",
            "1200/1200 [==============================] - 4s 3ms/step - loss: 0.5686 - accuracy: 0.8592\n",
            "Epoch 26/250\n",
            "1200/1200 [==============================] - 5s 4ms/step - loss: 0.5249 - accuracy: 0.8691\n",
            "Epoch 27/250\n",
            "1200/1200 [==============================] - 3s 3ms/step - loss: 0.4892 - accuracy: 0.8769\n",
            "Epoch 28/250\n",
            "1200/1200 [==============================] - 3s 3ms/step - loss: 0.4590 - accuracy: 0.8835\n",
            "Epoch 29/250\n",
            "1200/1200 [==============================] - 4s 3ms/step - loss: 0.4339 - accuracy: 0.8889\n",
            "Epoch 30/250\n",
            "1200/1200 [==============================] - 4s 3ms/step - loss: 0.4121 - accuracy: 0.8944\n",
            "Epoch 31/250\n",
            "1200/1200 [==============================] - 4s 3ms/step - loss: 0.3928 - accuracy: 0.8997\n",
            "Epoch 32/250\n",
            "1200/1200 [==============================] - 3s 3ms/step - loss: 0.3756 - accuracy: 0.9040\n",
            "Epoch 33/250\n",
            "1200/1200 [==============================] - 5s 4ms/step - loss: 0.3603 - accuracy: 0.9084\n",
            "Epoch 34/250\n",
            "1200/1200 [==============================] - 4s 3ms/step - loss: 0.3458 - accuracy: 0.9115\n",
            "Epoch 35/250\n",
            "1200/1200 [==============================] - 4s 3ms/step - loss: 0.3325 - accuracy: 0.9150\n",
            "Epoch 36/250\n",
            "1200/1200 [==============================] - 4s 3ms/step - loss: 0.3207 - accuracy: 0.9176\n",
            "Epoch 37/250\n",
            "1200/1200 [==============================] - 4s 3ms/step - loss: 0.3099 - accuracy: 0.9199\n",
            "Epoch 38/250\n",
            "1200/1200 [==============================] - 4s 3ms/step - loss: 0.2995 - accuracy: 0.9226\n",
            "Epoch 39/250\n",
            "1200/1200 [==============================] - 4s 3ms/step - loss: 0.2897 - accuracy: 0.9248\n",
            "Epoch 40/250\n",
            "1200/1200 [==============================] - 5s 4ms/step - loss: 0.2813 - accuracy: 0.9269\n",
            "Epoch 41/250\n",
            "1200/1200 [==============================] - 4s 3ms/step - loss: 0.2729 - accuracy: 0.9291\n",
            "Epoch 42/250\n",
            "1200/1200 [==============================] - 4s 3ms/step - loss: 0.2654 - accuracy: 0.9307\n",
            "Epoch 43/250\n",
            "1200/1200 [==============================] - 4s 3ms/step - loss: 0.2582 - accuracy: 0.9320\n",
            "Epoch 44/250\n",
            "1200/1200 [==============================] - 4s 3ms/step - loss: 0.2514 - accuracy: 0.9336\n",
            "Epoch 45/250\n",
            "1200/1200 [==============================] - 4s 3ms/step - loss: 0.2451 - accuracy: 0.9346\n",
            "Epoch 46/250\n",
            "1200/1200 [==============================] - 4s 3ms/step - loss: 0.2390 - accuracy: 0.9362\n",
            "Epoch 47/250\n",
            "1200/1200 [==============================] - 4s 4ms/step - loss: 0.2332 - accuracy: 0.9374\n",
            "Epoch 48/250\n",
            "1200/1200 [==============================] - 4s 3ms/step - loss: 0.2277 - accuracy: 0.9388\n",
            "Epoch 49/250\n",
            "1200/1200 [==============================] - 4s 3ms/step - loss: 0.2229 - accuracy: 0.9402\n",
            "Epoch 50/250\n",
            "1200/1200 [==============================] - 4s 3ms/step - loss: 0.2181 - accuracy: 0.9416\n",
            "Epoch 51/250\n",
            "1200/1200 [==============================] - 4s 4ms/step - loss: 0.2135 - accuracy: 0.9425\n",
            "Epoch 52/250\n",
            "1200/1200 [==============================] - 4s 3ms/step - loss: 0.2091 - accuracy: 0.9440\n",
            "Epoch 53/250\n",
            "1200/1200 [==============================] - 4s 3ms/step - loss: 0.2050 - accuracy: 0.9449\n",
            "Epoch 54/250\n",
            "1200/1200 [==============================] - 5s 4ms/step - loss: 0.2008 - accuracy: 0.9462\n",
            "Epoch 55/250\n",
            "1200/1200 [==============================] - 4s 3ms/step - loss: 0.1971 - accuracy: 0.9471\n",
            "Epoch 56/250\n",
            "1200/1200 [==============================] - 3s 3ms/step - loss: 0.1933 - accuracy: 0.9485\n",
            "Epoch 57/250\n",
            "1200/1200 [==============================] - 4s 3ms/step - loss: 0.1902 - accuracy: 0.9489\n",
            "Epoch 58/250\n",
            "1200/1200 [==============================] - 4s 4ms/step - loss: 0.1868 - accuracy: 0.9496\n",
            "Epoch 59/250\n",
            "1200/1200 [==============================] - 4s 3ms/step - loss: 0.1836 - accuracy: 0.9506\n",
            "Epoch 60/250\n",
            "1200/1200 [==============================] - 4s 3ms/step - loss: 0.1804 - accuracy: 0.9507\n",
            "Epoch 61/250\n",
            "1200/1200 [==============================] - 5s 4ms/step - loss: 0.1775 - accuracy: 0.9521\n",
            "Epoch 62/250\n",
            "1200/1200 [==============================] - 4s 3ms/step - loss: 0.1744 - accuracy: 0.9524\n",
            "Epoch 63/250\n",
            "1200/1200 [==============================] - 4s 3ms/step - loss: 0.1716 - accuracy: 0.9533\n",
            "Epoch 64/250\n",
            "1200/1200 [==============================] - 4s 3ms/step - loss: 0.1688 - accuracy: 0.9539\n",
            "Epoch 65/250\n",
            "1200/1200 [==============================] - 4s 4ms/step - loss: 0.1666 - accuracy: 0.9540\n",
            "Epoch 66/250\n",
            "1200/1200 [==============================] - 3s 3ms/step - loss: 0.1638 - accuracy: 0.9550\n",
            "Epoch 67/250\n",
            "1200/1200 [==============================] - 4s 3ms/step - loss: 0.1615 - accuracy: 0.9553\n",
            "Epoch 68/250\n",
            "1200/1200 [==============================] - 4s 4ms/step - loss: 0.1592 - accuracy: 0.9563\n",
            "Epoch 69/250\n",
            "1200/1200 [==============================] - 4s 3ms/step - loss: 0.1566 - accuracy: 0.9563\n",
            "Epoch 70/250\n",
            "1200/1200 [==============================] - 4s 3ms/step - loss: 0.1543 - accuracy: 0.9571\n",
            "Epoch 71/250\n",
            "1200/1200 [==============================] - 4s 3ms/step - loss: 0.1522 - accuracy: 0.9580\n",
            "Epoch 72/250\n",
            "1200/1200 [==============================] - 5s 4ms/step - loss: 0.1501 - accuracy: 0.9585\n",
            "Epoch 73/250\n",
            "1200/1200 [==============================] - 4s 3ms/step - loss: 0.1481 - accuracy: 0.9588\n",
            "Epoch 74/250\n",
            "1200/1200 [==============================] - 4s 3ms/step - loss: 0.1458 - accuracy: 0.9599\n",
            "Epoch 75/250\n",
            "1200/1200 [==============================] - 4s 4ms/step - loss: 0.1439 - accuracy: 0.9600\n",
            "Epoch 76/250\n",
            "1200/1200 [==============================] - 4s 3ms/step - loss: 0.1421 - accuracy: 0.9607\n",
            "Epoch 77/250\n",
            "1200/1200 [==============================] - 4s 3ms/step - loss: 0.1404 - accuracy: 0.9608\n",
            "Epoch 78/250\n",
            "1200/1200 [==============================] - 3s 3ms/step - loss: 0.1384 - accuracy: 0.9618\n",
            "Epoch 79/250\n",
            "1200/1200 [==============================] - 4s 4ms/step - loss: 0.1370 - accuracy: 0.9618\n",
            "Epoch 80/250\n",
            "1200/1200 [==============================] - 4s 3ms/step - loss: 0.1354 - accuracy: 0.9623\n",
            "Epoch 81/250\n",
            "1200/1200 [==============================] - 4s 3ms/step - loss: 0.1334 - accuracy: 0.9628\n",
            "Epoch 82/250\n",
            "1200/1200 [==============================] - 5s 4ms/step - loss: 0.1315 - accuracy: 0.9636\n",
            "Epoch 83/250\n",
            "1200/1200 [==============================] - 4s 3ms/step - loss: 0.1303 - accuracy: 0.9638\n",
            "Epoch 84/250\n",
            "1200/1200 [==============================] - 4s 3ms/step - loss: 0.1286 - accuracy: 0.9643\n",
            "Epoch 85/250\n",
            "1200/1200 [==============================] - 4s 3ms/step - loss: 0.1272 - accuracy: 0.9649\n",
            "Epoch 86/250\n",
            "1200/1200 [==============================] - 5s 4ms/step - loss: 0.1256 - accuracy: 0.9654\n",
            "Epoch 87/250\n",
            "1200/1200 [==============================] - 3s 3ms/step - loss: 0.1242 - accuracy: 0.9656\n",
            "Epoch 88/250\n",
            "1200/1200 [==============================] - 3s 3ms/step - loss: 0.1230 - accuracy: 0.9660\n",
            "Epoch 89/250\n",
            "1200/1200 [==============================] - 4s 4ms/step - loss: 0.1214 - accuracy: 0.9667\n",
            "Epoch 90/250\n",
            "1200/1200 [==============================] - 4s 3ms/step - loss: 0.1201 - accuracy: 0.9666\n",
            "Epoch 91/250\n",
            "1200/1200 [==============================] - 3s 3ms/step - loss: 0.1186 - accuracy: 0.9672\n",
            "Epoch 92/250\n",
            "1200/1200 [==============================] - 4s 3ms/step - loss: 0.1170 - accuracy: 0.9676\n",
            "Epoch 93/250\n",
            "1200/1200 [==============================] - 5s 4ms/step - loss: 0.1159 - accuracy: 0.9679\n",
            "Epoch 94/250\n",
            "1200/1200 [==============================] - 3s 3ms/step - loss: 0.1152 - accuracy: 0.9685\n",
            "Epoch 95/250\n",
            "1200/1200 [==============================] - 3s 3ms/step - loss: 0.1137 - accuracy: 0.9688\n",
            "Epoch 96/250\n",
            "1200/1200 [==============================] - 4s 3ms/step - loss: 0.1124 - accuracy: 0.9688\n",
            "Epoch 97/250\n",
            "1200/1200 [==============================] - 4s 4ms/step - loss: 0.1109 - accuracy: 0.9701\n",
            "Epoch 98/250\n",
            "1200/1200 [==============================] - 3s 3ms/step - loss: 0.1101 - accuracy: 0.9697\n",
            "Epoch 99/250\n",
            "1200/1200 [==============================] - 4s 3ms/step - loss: 0.1091 - accuracy: 0.9703\n",
            "Epoch 100/250\n",
            "1200/1200 [==============================] - 5s 4ms/step - loss: 0.1080 - accuracy: 0.9703\n",
            "Epoch 101/250\n",
            "1200/1200 [==============================] - 4s 3ms/step - loss: 0.1068 - accuracy: 0.9706\n",
            "Epoch 102/250\n",
            "1200/1200 [==============================] - 4s 3ms/step - loss: 0.1057 - accuracy: 0.9708\n",
            "Epoch 103/250\n",
            "1200/1200 [==============================] - 4s 3ms/step - loss: 0.1047 - accuracy: 0.9712\n",
            "Epoch 104/250\n",
            "1200/1200 [==============================] - 4s 4ms/step - loss: 0.1040 - accuracy: 0.9713\n",
            "Epoch 105/250\n",
            "1200/1200 [==============================] - 4s 3ms/step - loss: 0.1027 - accuracy: 0.9717\n",
            "Epoch 106/250\n",
            "1200/1200 [==============================] - 4s 3ms/step - loss: 0.1019 - accuracy: 0.9720\n",
            "Epoch 107/250\n",
            "1200/1200 [==============================] - 4s 4ms/step - loss: 0.1006 - accuracy: 0.9728\n",
            "Epoch 108/250\n",
            "1200/1200 [==============================] - 4s 3ms/step - loss: 0.0997 - accuracy: 0.9726\n",
            "Epoch 109/250\n",
            "1200/1200 [==============================] - 4s 3ms/step - loss: 0.0993 - accuracy: 0.9731\n",
            "Epoch 110/250\n",
            "1200/1200 [==============================] - 4s 3ms/step - loss: 0.0980 - accuracy: 0.9730\n",
            "Epoch 111/250\n",
            "1200/1200 [==============================] - 5s 4ms/step - loss: 0.0969 - accuracy: 0.9735\n",
            "Epoch 112/250\n",
            "1200/1200 [==============================] - 4s 3ms/step - loss: 0.0964 - accuracy: 0.9741\n",
            "Epoch 113/250\n",
            "1200/1200 [==============================] - 4s 3ms/step - loss: 0.0953 - accuracy: 0.9739\n",
            "Epoch 114/250\n",
            "1200/1200 [==============================] - 4s 4ms/step - loss: 0.0946 - accuracy: 0.9740\n",
            "Epoch 115/250\n",
            "1200/1200 [==============================] - 4s 3ms/step - loss: 0.0939 - accuracy: 0.9747\n",
            "Epoch 116/250\n",
            "1200/1200 [==============================] - 4s 3ms/step - loss: 0.0925 - accuracy: 0.9744\n",
            "Epoch 117/250\n",
            "1200/1200 [==============================] - 4s 3ms/step - loss: 0.0921 - accuracy: 0.9751\n",
            "Epoch 118/250\n",
            "1200/1200 [==============================] - 5s 4ms/step - loss: 0.0910 - accuracy: 0.9755\n",
            "Epoch 119/250\n",
            "1200/1200 [==============================] - 4s 3ms/step - loss: 0.0906 - accuracy: 0.9754\n",
            "Epoch 120/250\n",
            "1200/1200 [==============================] - 4s 3ms/step - loss: 0.0895 - accuracy: 0.9757\n",
            "Epoch 121/250\n",
            "1200/1200 [==============================] - 4s 4ms/step - loss: 0.0888 - accuracy: 0.9760\n",
            "Epoch 122/250\n",
            "1200/1200 [==============================] - 4s 3ms/step - loss: 0.0882 - accuracy: 0.9766\n",
            "Epoch 123/250\n",
            "1200/1200 [==============================] - 4s 3ms/step - loss: 0.0873 - accuracy: 0.9767\n",
            "Epoch 124/250\n",
            "1200/1200 [==============================] - 3s 3ms/step - loss: 0.0869 - accuracy: 0.9765\n",
            "Epoch 125/250\n",
            "1200/1200 [==============================] - 5s 4ms/step - loss: 0.0860 - accuracy: 0.9772\n",
            "Epoch 126/250\n",
            "1200/1200 [==============================] - 3s 3ms/step - loss: 0.0852 - accuracy: 0.9773\n",
            "Epoch 127/250\n",
            "1200/1200 [==============================] - 4s 3ms/step - loss: 0.0848 - accuracy: 0.9773\n",
            "Epoch 128/250\n",
            "1200/1200 [==============================] - 4s 3ms/step - loss: 0.0838 - accuracy: 0.9776\n",
            "Epoch 129/250\n",
            "1200/1200 [==============================] - 4s 3ms/step - loss: 0.0832 - accuracy: 0.9780\n",
            "Epoch 130/250\n",
            "1200/1200 [==============================] - 3s 3ms/step - loss: 0.0826 - accuracy: 0.9780\n",
            "Epoch 131/250\n",
            "1200/1200 [==============================] - 4s 3ms/step - loss: 0.0818 - accuracy: 0.9784\n",
            "Epoch 132/250\n",
            "1200/1200 [==============================] - 5s 4ms/step - loss: 0.0814 - accuracy: 0.9785\n",
            "Epoch 133/250\n",
            "1200/1200 [==============================] - 4s 3ms/step - loss: 0.0806 - accuracy: 0.9784\n",
            "Epoch 134/250\n",
            "1200/1200 [==============================] - 3s 3ms/step - loss: 0.0799 - accuracy: 0.9788\n",
            "Epoch 135/250\n",
            "1200/1200 [==============================] - 4s 3ms/step - loss: 0.0792 - accuracy: 0.9795\n",
            "Epoch 136/250\n",
            "1200/1200 [==============================] - 4s 4ms/step - loss: 0.0787 - accuracy: 0.9793\n",
            "Epoch 137/250\n",
            "1200/1200 [==============================] - 3s 3ms/step - loss: 0.0781 - accuracy: 0.9794\n",
            "Epoch 138/250\n",
            "1200/1200 [==============================] - 3s 3ms/step - loss: 0.0778 - accuracy: 0.9796\n",
            "Epoch 139/250\n",
            "1200/1200 [==============================] - 5s 4ms/step - loss: 0.0770 - accuracy: 0.9796\n",
            "Epoch 140/250\n",
            "1200/1200 [==============================] - 4s 3ms/step - loss: 0.0764 - accuracy: 0.9798\n",
            "Epoch 141/250\n",
            "1200/1200 [==============================] - 3s 3ms/step - loss: 0.0761 - accuracy: 0.9800\n",
            "Epoch 142/250\n",
            "1200/1200 [==============================] - 4s 3ms/step - loss: 0.0755 - accuracy: 0.9806\n",
            "Epoch 143/250\n",
            "1200/1200 [==============================] - 5s 4ms/step - loss: 0.0747 - accuracy: 0.9804\n",
            "Epoch 144/250\n",
            "1200/1200 [==============================] - 4s 3ms/step - loss: 0.0744 - accuracy: 0.9808\n",
            "Epoch 145/250\n",
            "1200/1200 [==============================] - 3s 3ms/step - loss: 0.0737 - accuracy: 0.9809\n",
            "Epoch 146/250\n",
            "1200/1200 [==============================] - 4s 4ms/step - loss: 0.0733 - accuracy: 0.9810\n",
            "Epoch 147/250\n",
            "1200/1200 [==============================] - 4s 3ms/step - loss: 0.0726 - accuracy: 0.9814\n",
            "Epoch 148/250\n",
            "1200/1200 [==============================] - 4s 3ms/step - loss: 0.0721 - accuracy: 0.9813\n",
            "Epoch 149/250\n",
            "1200/1200 [==============================] - 4s 3ms/step - loss: 0.0715 - accuracy: 0.9816\n",
            "Epoch 150/250\n",
            "1200/1200 [==============================] - 5s 4ms/step - loss: 0.0711 - accuracy: 0.9815\n",
            "Epoch 151/250\n",
            "1200/1200 [==============================] - 4s 3ms/step - loss: 0.0707 - accuracy: 0.9820\n",
            "Epoch 152/250\n",
            "1200/1200 [==============================] - 4s 3ms/step - loss: 0.0700 - accuracy: 0.9821\n",
            "Epoch 153/250\n",
            "1200/1200 [==============================] - 4s 3ms/step - loss: 0.0693 - accuracy: 0.9825\n",
            "Epoch 154/250\n",
            "1200/1200 [==============================] - 4s 3ms/step - loss: 0.0692 - accuracy: 0.9822\n",
            "Epoch 155/250\n",
            "1200/1200 [==============================] - 4s 3ms/step - loss: 0.0684 - accuracy: 0.9824\n",
            "Epoch 156/250\n",
            "1200/1200 [==============================] - 4s 3ms/step - loss: 0.0682 - accuracy: 0.9825\n",
            "Epoch 157/250\n",
            "1200/1200 [==============================] - 5s 4ms/step - loss: 0.0678 - accuracy: 0.9826\n",
            "Epoch 158/250\n",
            "1200/1200 [==============================] - 4s 3ms/step - loss: 0.0673 - accuracy: 0.9830\n",
            "Epoch 159/250\n",
            "1200/1200 [==============================] - 4s 3ms/step - loss: 0.0666 - accuracy: 0.9830\n",
            "Epoch 160/250\n",
            "1200/1200 [==============================] - 4s 4ms/step - loss: 0.0662 - accuracy: 0.9831\n",
            "Epoch 161/250\n",
            "1200/1200 [==============================] - 4s 3ms/step - loss: 0.0656 - accuracy: 0.9835\n",
            "Epoch 162/250\n",
            "1200/1200 [==============================] - 4s 3ms/step - loss: 0.0653 - accuracy: 0.9833\n",
            "Epoch 163/250\n",
            "1200/1200 [==============================] - 4s 3ms/step - loss: 0.0649 - accuracy: 0.9836\n",
            "Epoch 164/250\n",
            "1200/1200 [==============================] - 5s 4ms/step - loss: 0.0643 - accuracy: 0.9839\n",
            "Epoch 165/250\n",
            "1200/1200 [==============================] - 4s 3ms/step - loss: 0.0638 - accuracy: 0.9840\n",
            "Epoch 166/250\n",
            "1200/1200 [==============================] - 4s 3ms/step - loss: 0.0637 - accuracy: 0.9838\n",
            "Epoch 167/250\n",
            "1200/1200 [==============================] - 4s 3ms/step - loss: 0.0631 - accuracy: 0.9838\n",
            "Epoch 168/250\n",
            "1200/1200 [==============================] - 4s 3ms/step - loss: 0.0627 - accuracy: 0.9842\n",
            "Epoch 169/250\n",
            "1200/1200 [==============================] - 3s 3ms/step - loss: 0.0624 - accuracy: 0.9845\n",
            "Epoch 170/250\n",
            "1200/1200 [==============================] - 4s 3ms/step - loss: 0.0617 - accuracy: 0.9848\n",
            "Epoch 171/250\n",
            "1200/1200 [==============================] - 5s 4ms/step - loss: 0.0618 - accuracy: 0.9844\n",
            "Epoch 172/250\n",
            "1200/1200 [==============================] - 4s 3ms/step - loss: 0.0611 - accuracy: 0.9848\n",
            "Epoch 173/250\n",
            "1200/1200 [==============================] - 3s 3ms/step - loss: 0.0607 - accuracy: 0.9847\n",
            "Epoch 174/250\n",
            "1200/1200 [==============================] - 4s 3ms/step - loss: 0.0602 - accuracy: 0.9851\n",
            "Epoch 175/250\n",
            "1200/1200 [==============================] - 5s 4ms/step - loss: 0.0600 - accuracy: 0.9848\n",
            "Epoch 176/250\n",
            "1200/1200 [==============================] - 4s 3ms/step - loss: 0.0592 - accuracy: 0.9853\n",
            "Epoch 177/250\n",
            "1200/1200 [==============================] - 4s 3ms/step - loss: 0.0593 - accuracy: 0.9853\n",
            "Epoch 178/250\n",
            "1200/1200 [==============================] - 4s 4ms/step - loss: 0.0587 - accuracy: 0.9858\n",
            "Epoch 179/250\n",
            "1200/1200 [==============================] - 4s 3ms/step - loss: 0.0582 - accuracy: 0.9856\n",
            "Epoch 180/250\n",
            "1200/1200 [==============================] - 3s 3ms/step - loss: 0.0578 - accuracy: 0.9854\n",
            "Epoch 181/250\n",
            "1200/1200 [==============================] - 4s 3ms/step - loss: 0.0573 - accuracy: 0.9860\n",
            "Epoch 182/250\n",
            "1200/1200 [==============================] - 5s 4ms/step - loss: 0.0572 - accuracy: 0.9862\n",
            "Epoch 183/250\n",
            "1200/1200 [==============================] - 4s 3ms/step - loss: 0.0567 - accuracy: 0.9865\n",
            "Epoch 184/250\n",
            "1200/1200 [==============================] - 4s 3ms/step - loss: 0.0562 - accuracy: 0.9865\n",
            "Epoch 185/250\n",
            "1200/1200 [==============================] - 4s 4ms/step - loss: 0.0559 - accuracy: 0.9865\n",
            "Epoch 186/250\n",
            "1200/1200 [==============================] - 4s 3ms/step - loss: 0.0556 - accuracy: 0.9863\n",
            "Epoch 187/250\n",
            "1200/1200 [==============================] - 4s 3ms/step - loss: 0.0551 - accuracy: 0.9865\n",
            "Epoch 188/250\n",
            "1200/1200 [==============================] - 4s 3ms/step - loss: 0.0549 - accuracy: 0.9867\n",
            "Epoch 189/250\n",
            "1200/1200 [==============================] - 5s 4ms/step - loss: 0.0548 - accuracy: 0.9866\n",
            "Epoch 190/250\n",
            "1200/1200 [==============================] - 4s 3ms/step - loss: 0.0539 - accuracy: 0.9871\n",
            "Epoch 191/250\n",
            "1200/1200 [==============================] - 4s 3ms/step - loss: 0.0540 - accuracy: 0.9873\n",
            "Epoch 192/250\n",
            "1200/1200 [==============================] - 4s 4ms/step - loss: 0.0536 - accuracy: 0.9870\n",
            "Epoch 193/250\n",
            "1200/1200 [==============================] - 4s 3ms/step - loss: 0.0533 - accuracy: 0.9869\n",
            "Epoch 194/250\n",
            "1200/1200 [==============================] - 4s 3ms/step - loss: 0.0530 - accuracy: 0.9870\n",
            "Epoch 195/250\n",
            "1200/1200 [==============================] - 4s 3ms/step - loss: 0.0525 - accuracy: 0.9873\n",
            "Epoch 196/250\n",
            "1200/1200 [==============================] - 5s 4ms/step - loss: 0.0523 - accuracy: 0.9877\n",
            "Epoch 197/250\n",
            "1200/1200 [==============================] - 4s 3ms/step - loss: 0.0520 - accuracy: 0.9872\n",
            "Epoch 198/250\n",
            "1200/1200 [==============================] - 4s 3ms/step - loss: 0.0516 - accuracy: 0.9877\n",
            "Epoch 199/250\n",
            "1200/1200 [==============================] - 4s 3ms/step - loss: 0.0512 - accuracy: 0.9876\n",
            "Epoch 200/250\n",
            "1200/1200 [==============================] - 4s 3ms/step - loss: 0.0511 - accuracy: 0.9876\n",
            "Epoch 201/250\n",
            "1200/1200 [==============================] - 4s 3ms/step - loss: 0.0507 - accuracy: 0.9883\n",
            "Epoch 202/250\n",
            "1200/1200 [==============================] - 4s 3ms/step - loss: 0.0501 - accuracy: 0.9883\n",
            "Epoch 203/250\n",
            "1200/1200 [==============================] - 5s 4ms/step - loss: 0.0501 - accuracy: 0.9883\n",
            "Epoch 204/250\n",
            "1200/1200 [==============================] - 4s 3ms/step - loss: 0.0495 - accuracy: 0.9886\n",
            "Epoch 205/250\n",
            "1200/1200 [==============================] - 4s 3ms/step - loss: 0.0492 - accuracy: 0.9885\n",
            "Epoch 206/250\n",
            "1200/1200 [==============================] - 4s 4ms/step - loss: 0.0489 - accuracy: 0.9887\n",
            "Epoch 207/250\n",
            "1200/1200 [==============================] - 4s 4ms/step - loss: 0.0489 - accuracy: 0.9885\n",
            "Epoch 208/250\n",
            "1200/1200 [==============================] - 4s 3ms/step - loss: 0.0486 - accuracy: 0.9886\n",
            "Epoch 209/250\n",
            "1200/1200 [==============================] - 4s 3ms/step - loss: 0.0484 - accuracy: 0.9887\n",
            "Epoch 210/250\n",
            "1200/1200 [==============================] - 5s 4ms/step - loss: 0.0479 - accuracy: 0.9890\n",
            "Epoch 211/250\n",
            "1200/1200 [==============================] - 4s 3ms/step - loss: 0.0476 - accuracy: 0.9894\n",
            "Epoch 212/250\n",
            "1200/1200 [==============================] - 4s 3ms/step - loss: 0.0473 - accuracy: 0.9894\n",
            "Epoch 213/250\n",
            "1200/1200 [==============================] - 4s 3ms/step - loss: 0.0469 - accuracy: 0.9892\n",
            "Epoch 214/250\n",
            "1200/1200 [==============================] - 4s 4ms/step - loss: 0.0469 - accuracy: 0.9893\n",
            "Epoch 215/250\n",
            "1200/1200 [==============================] - 4s 3ms/step - loss: 0.0463 - accuracy: 0.9896\n",
            "Epoch 216/250\n",
            "1200/1200 [==============================] - 4s 3ms/step - loss: 0.0463 - accuracy: 0.9894\n",
            "Epoch 217/250\n",
            "1200/1200 [==============================] - 5s 4ms/step - loss: 0.0460 - accuracy: 0.9897\n",
            "Epoch 218/250\n",
            "1200/1200 [==============================] - 4s 3ms/step - loss: 0.0455 - accuracy: 0.9897\n",
            "Epoch 219/250\n",
            "1200/1200 [==============================] - 4s 3ms/step - loss: 0.0455 - accuracy: 0.9896\n",
            "Epoch 220/250\n",
            "1200/1200 [==============================] - 4s 3ms/step - loss: 0.0451 - accuracy: 0.9898\n",
            "Epoch 221/250\n",
            "1200/1200 [==============================] - 4s 4ms/step - loss: 0.0450 - accuracy: 0.9896\n",
            "Epoch 222/250\n",
            "1200/1200 [==============================] - 4s 3ms/step - loss: 0.0446 - accuracy: 0.9901\n",
            "Epoch 223/250\n",
            "1200/1200 [==============================] - 4s 3ms/step - loss: 0.0445 - accuracy: 0.9899\n",
            "Epoch 224/250\n",
            "1200/1200 [==============================] - 5s 4ms/step - loss: 0.0442 - accuracy: 0.9900\n",
            "Epoch 225/250\n",
            "1200/1200 [==============================] - 4s 3ms/step - loss: 0.0438 - accuracy: 0.9903\n",
            "Epoch 226/250\n",
            "1200/1200 [==============================] - 4s 3ms/step - loss: 0.0436 - accuracy: 0.9901\n",
            "Epoch 227/250\n",
            "1200/1200 [==============================] - 4s 3ms/step - loss: 0.0433 - accuracy: 0.9904\n",
            "Epoch 228/250\n",
            "1200/1200 [==============================] - 4s 4ms/step - loss: 0.0430 - accuracy: 0.9906\n",
            "Epoch 229/250\n",
            "1200/1200 [==============================] - 4s 3ms/step - loss: 0.0426 - accuracy: 0.9906\n",
            "Epoch 230/250\n",
            "1200/1200 [==============================] - 4s 3ms/step - loss: 0.0426 - accuracy: 0.9905\n",
            "Epoch 231/250\n",
            "1200/1200 [==============================] - 5s 4ms/step - loss: 0.0422 - accuracy: 0.9907\n",
            "Epoch 232/250\n",
            "1200/1200 [==============================] - 4s 3ms/step - loss: 0.0422 - accuracy: 0.9903\n",
            "Epoch 233/250\n",
            "1200/1200 [==============================] - 4s 3ms/step - loss: 0.0419 - accuracy: 0.9908\n",
            "Epoch 234/250\n",
            "1200/1200 [==============================] - 4s 3ms/step - loss: 0.0417 - accuracy: 0.9909\n",
            "Epoch 235/250\n",
            "1200/1200 [==============================] - 5s 4ms/step - loss: 0.0413 - accuracy: 0.9913\n",
            "Epoch 236/250\n",
            "1200/1200 [==============================] - 4s 3ms/step - loss: 0.0413 - accuracy: 0.9912\n",
            "Epoch 237/250\n",
            "1200/1200 [==============================] - 4s 3ms/step - loss: 0.0409 - accuracy: 0.9909\n",
            "Epoch 238/250\n",
            "1200/1200 [==============================] - 5s 4ms/step - loss: 0.0407 - accuracy: 0.9916\n",
            "Epoch 239/250\n",
            "1200/1200 [==============================] - 4s 3ms/step - loss: 0.0405 - accuracy: 0.9913\n",
            "Epoch 240/250\n",
            "1200/1200 [==============================] - 4s 3ms/step - loss: 0.0401 - accuracy: 0.9916\n",
            "Epoch 241/250\n",
            "1200/1200 [==============================] - 4s 3ms/step - loss: 0.0400 - accuracy: 0.9916\n",
            "Epoch 242/250\n",
            "1200/1200 [==============================] - 4s 4ms/step - loss: 0.0396 - accuracy: 0.9914\n",
            "Epoch 243/250\n",
            "1200/1200 [==============================] - 4s 3ms/step - loss: 0.0396 - accuracy: 0.9914\n",
            "Epoch 244/250\n",
            "1200/1200 [==============================] - 4s 3ms/step - loss: 0.0394 - accuracy: 0.9917\n",
            "Epoch 245/250\n",
            "1200/1200 [==============================] - 5s 4ms/step - loss: 0.0392 - accuracy: 0.9914\n",
            "Epoch 246/250\n",
            "1200/1200 [==============================] - 4s 3ms/step - loss: 0.0391 - accuracy: 0.9918\n",
            "Epoch 247/250\n",
            "1200/1200 [==============================] - 4s 3ms/step - loss: 0.0387 - accuracy: 0.9919\n",
            "Epoch 248/250\n",
            "1200/1200 [==============================] - 4s 3ms/step - loss: 0.0385 - accuracy: 0.9919\n",
            "Epoch 249/250\n",
            "1200/1200 [==============================] - 4s 4ms/step - loss: 0.0383 - accuracy: 0.9919\n",
            "Epoch 250/250\n",
            "1200/1200 [==============================] - 4s 3ms/step - loss: 0.0381 - accuracy: 0.9918\n"
          ]
        },
        {
          "output_type": "execute_result",
          "data": {
            "text/plain": [
              "<keras.callbacks.History at 0x7f9f72dc5970>"
            ]
          },
          "metadata": {},
          "execution_count": 86
        }
      ]
    },
    {
      "cell_type": "markdown",
      "metadata": {
        "id": "heVasO26zp6V"
      },
      "source": [
        "- Two quantities are displayed during training:\n",
        "    - The loss of the network over the training data\n",
        "    - The accuracy of the network over the training data\n",
        "    \n",
        "- We quickly reach an accuracy of **$0.9886 (98.86\\%)$** on the training data."
      ]
    },
    {
      "cell_type": "markdown",
      "metadata": {
        "id": "0eDaNGAYzp6X"
      },
      "source": [
        "- Now let's check that the model performs well on the test set, too:"
      ]
    },
    {
      "cell_type": "code",
      "metadata": {
        "id": "2-UhmyTWzp6Y",
        "colab": {
          "base_uri": "https://localhost:8080/"
        },
        "outputId": "fc13ca79-eb0c-4a1a-ef58-3ccd9410977d"
      },
      "source": [
        "test_loss, test_acc = network.evaluate(test_images, test_labels)"
      ],
      "execution_count": 87,
      "outputs": [
        {
          "output_type": "stream",
          "name": "stdout",
          "text": [
            "313/313 [==============================] - 1s 2ms/step - loss: 0.1564 - accuracy: 0.9589\n"
          ]
        }
      ]
    },
    {
      "cell_type": "code",
      "metadata": {
        "id": "omz-cZXLzp6d",
        "colab": {
          "base_uri": "https://localhost:8080/"
        },
        "outputId": "693f3055-ae10-4cbe-e340-1bf6e7ecbd2b"
      },
      "source": [
        "print('Test Accuracy: {:.5f} '.format(test_acc))"
      ],
      "execution_count": 88,
      "outputs": [
        {
          "output_type": "stream",
          "name": "stdout",
          "text": [
            "Test Accuracy: 0.95890 \n"
          ]
        }
      ]
    },
    {
      "cell_type": "code",
      "metadata": {
        "id": "cbIp64KFzp6g",
        "colab": {
          "base_uri": "https://localhost:8080/"
        },
        "outputId": "7e2442dd-7760-4715-8ce7-7987dd4c277c"
      },
      "source": [
        "test_acc"
      ],
      "execution_count": 89,
      "outputs": [
        {
          "output_type": "execute_result",
          "data": {
            "text/plain": [
              "0.958899974822998"
            ]
          },
          "metadata": {},
          "execution_count": 89
        }
      ]
    },
    {
      "cell_type": "markdown",
      "metadata": {
        "id": "yi5jDr-0zp6k"
      },
      "source": [
        "- The test-set accuracy turns out to be $97.780\\%$--that is quite a bit lower than the training set accuracy. This gap between training and test accuracy is an example of **overfitting**:the fact that the ML models tend to perform worse on new data than on their training data."
      ]
    },
    {
      "cell_type": "code",
      "metadata": {
        "id": "JOu1IQW6zp6l",
        "colab": {
          "base_uri": "https://localhost:8080/",
          "height": 564
        },
        "outputId": "cc4c90b2-7bef-4563-abad-38f96143eda5"
      },
      "source": [
        "from keras.utils import plot_model\n",
        "plot_model(network, to_file='model.png')"
      ],
      "execution_count": 90,
      "outputs": [
        {
          "output_type": "execute_result",
          "data": {
            "image/png": "[encoded data removed]",
            "text/plain": [
              "<IPython.core.display.Image object>"
            ]
          },
          "metadata": {},
          "execution_count": 90
        }
      ]
    },
    {
      "cell_type": "code",
      "metadata": {
        "id": "LVvUxpAkOQuz",
        "colab": {
          "base_uri": "https://localhost:8080/",
          "height": 764
        },
        "outputId": "5a6a1cb6-2ada-4b23-a917-f42600859a9e"
      },
      "source": [
        "import matplotlib.pyplot as plt\n",
        "history =network.fit(train_images, train_labels, validation_split=0.33,epochs=5, batch_size=512)\n",
        "history_dict = history.history\n",
        "print(history_dict.keys())\n",
        "plt.plot(history.history['accuracy'])\n",
        "plt.plot(history.history['val_accuracy'])\n",
        "plt.title('Model accuracy')\n",
        "plt.ylabel('Accuracy')\n",
        "plt.xlabel('Epoch')\n",
        "plt.legend(['Train', 'Test'], loc='upper left')\n",
        "plt.show()\n",
        "\n",
        "# Plot training & validation loss values\n",
        "plt.plot(history.history['loss'])\n",
        "plt.plot(history.history['val_loss'])\n",
        "plt.title('Model loss')\n",
        "plt.ylabel('Loss')\n",
        "plt.xlabel('Epoch')\n",
        "plt.legend(['Train', 'Test'], loc='upper left')\n",
        "plt.show()"
      ],
      "execution_count": 91,
      "outputs": [
        {
          "output_type": "stream",
          "name": "stdout",
          "text": [
            "Epoch 1/5\n",
            "79/79 [==============================] - 1s 8ms/step - loss: 0.0357 - accuracy: 0.9933 - val_loss: 0.0349 - val_accuracy: 0.9933\n",
            "Epoch 2/5\n",
            "79/79 [==============================] - 0s 5ms/step - loss: 0.0350 - accuracy: 0.9935 - val_loss: 0.0350 - val_accuracy: 0.9933\n",
            "Epoch 3/5\n",
            "79/79 [==============================] - 0s 5ms/step - loss: 0.0348 - accuracy: 0.9936 - val_loss: 0.0354 - val_accuracy: 0.9932\n",
            "Epoch 4/5\n",
            "79/79 [==============================] - 0s 6ms/step - loss: 0.0347 - accuracy: 0.9937 - val_loss: 0.0352 - val_accuracy: 0.9934\n",
            "Epoch 5/5\n",
            "79/79 [==============================] - 0s 6ms/step - loss: 0.0346 - accuracy: 0.9937 - val_loss: 0.0354 - val_accuracy: 0.9933\n",
            "dict_keys(['loss', 'accuracy', 'val_loss', 'val_accuracy'])\n"
          ]
        },
        {
          "output_type": "display_data",
          "data": {
            "text/plain": [
              "<Figure size 432x288 with 1 Axes>"
            ],
            "image/png": "[encoded data removed]"
          },
          "metadata": {
            "needs_background": "light"
          }
        },
        {
          "output_type": "display_data",
          "data": {
            "text/plain": [
              "<Figure size 432x288 with 1 Axes>"
            ],
            "image/png": "[encoded data removed]"
          },
          "metadata": {
            "needs_background": "light"
          }
        }
      ]
    }
  ]
}